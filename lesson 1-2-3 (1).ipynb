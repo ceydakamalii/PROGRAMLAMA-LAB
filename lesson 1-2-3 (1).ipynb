{
 "cells": [
  {
   "cell_type": "code",
   "execution_count": 13,
   "metadata": {},
   "outputs": [],
   "source": [
    "import random\n"
   ]
  },
  {
   "cell_type": "code",
   "execution_count": 14,
   "metadata": {},
   "outputs": [],
   "source": [
    "###Listeye rastgele sayı atama###\n",
    "def get_n_random_numbers(n=10,min=-5,max=5):\n",
    "    numbers=[]\n",
    "    for i in range(n):\n",
    "        numbers.append(random.randint(min,max))\n",
    "    return numbers"
   ]
  },
  {
   "cell_type": "code",
   "execution_count": 15,
   "metadata": {
    "scrolled": true
   },
   "outputs": [
    {
     "data": {
      "text/plain": [
       "[-4, 1, 3, -2, -3, -2, 2, -1, -4, -2]"
      ]
     },
     "execution_count": 15,
     "metadata": {},
     "output_type": "execute_result"
    }
   ],
   "source": [
    "get_n_random_numbers()"
   ]
  },
  {
   "cell_type": "code",
   "execution_count": 16,
   "metadata": {},
   "outputs": [],
   "source": [
    "###Dictionary kullanarak Histogram bulma###\n",
    "def my_frequency_with_dict(list):\n",
    "    frequency_dict={}\n",
    "    for item in list:\n",
    "        if(item in frequency_dict):\n",
    "            frequency_dict[item]=frequency_dict[item]+1\n",
    "        else:\n",
    "            frequency_dict[item]=1\n",
    "    return frequency_dict\n"
   ]
  },
  {
   "cell_type": "code",
   "execution_count": 17,
   "metadata": {},
   "outputs": [
    {
     "name": "stdout",
     "output_type": "stream",
     "text": [
      "[-3, 3, 0, -3, 1, 0]\n"
     ]
    },
    {
     "data": {
      "text/plain": [
       "{-3: 2, 3: 1, 0: 2, 1: 1}"
      ]
     },
     "execution_count": 17,
     "metadata": {},
     "output_type": "execute_result"
    }
   ],
   "source": [
    "list_1=get_n_random_numbers(6,-3,3)\n",
    "print(list_1)\n",
    "my_frequency_with_dict(list_1)"
   ]
  },
  {
   "cell_type": "code",
   "execution_count": 18,
   "metadata": {},
   "outputs": [],
   "source": [
    "###Tuple kullanarak Histogram bulma###\n",
    "def my_frequency_with_list_tuples(list):\n",
    "    frequency_list=[]\n",
    "    for i in range(len(list)):\n",
    "        s=False\n",
    "        for j in range(len(frequency_list)):\n",
    "            if(list[i]==frequency_list[j][0]):\n",
    "                frequency_list[j][1]=frequency_list[j][1]+1\n",
    "                s=True\n",
    "        if(s==False):\n",
    "            frequency_list.append([list[i],1])\n",
    "    return frequency_list"
   ]
  },
  {
   "cell_type": "code",
   "execution_count": 19,
   "metadata": {},
   "outputs": [
    {
     "data": {
      "text/plain": [
       "[[-3, 2], [3, 1], [0, 2], [1, 1]]"
      ]
     },
     "execution_count": 19,
     "metadata": {},
     "output_type": "execute_result"
    }
   ],
   "source": [
    "my_frequency_with_list_tuples(list_1)"
   ]
  },
  {
   "cell_type": "code",
   "execution_count": 20,
   "metadata": {},
   "outputs": [],
   "source": [
    "###Dictionary kullanarak listenin modunu bulma###\n",
    "def my_mode_with_dict(my_hist_d):\n",
    "    frequency_max=-1\n",
    "    mode=-1\n",
    "    for key in my_hist_d.keys():\n",
    "        if(my_hist_d[key]>frequency_max):\n",
    "            frequency_max=my_hist_d[key]\n",
    "            mode=key\n",
    "    return mode,frequency_max"
   ]
  },
  {
   "cell_type": "code",
   "execution_count": 21,
   "metadata": {},
   "outputs": [
    {
     "name": "stdout",
     "output_type": "stream",
     "text": [
      "[3, -3, -4, 2, -5, -4, 5, 1, 3, 5]\n",
      "{3: 2, -3: 1, -4: 2, 2: 1, -5: 1, 5: 2, 1: 1}\n"
     ]
    },
    {
     "data": {
      "text/plain": [
       "(3, 2)"
      ]
     },
     "execution_count": 21,
     "metadata": {},
     "output_type": "execute_result"
    }
   ],
   "source": [
    "my_hist_d=get_n_random_numbers()\n",
    "print(my_hist_d)\n",
    "my_list=my_frequency_with_dict(my_hist_d)\n",
    "print(my_list)\n",
    "my_mode_with_dict(my_list)"
   ]
  },
  {
   "cell_type": "code",
   "execution_count": 22,
   "metadata": {},
   "outputs": [],
   "source": [
    "###Tuple kullanarak listenin modunu bulma###\n",
    "def my_mode_with_tupes(my_hist_d):\n",
    "    frequency_max=-1\n",
    "    mode=-1\n",
    "    for item,frequency in my_hist_d:\n",
    "        print(item,frequency)\n",
    "        if(frequency>frequency_max):\n",
    "            frequency_max=frequency\n",
    "            mode=item\n",
    "    return mode,frequency_max\n"
   ]
  },
  {
   "cell_type": "code",
   "execution_count": 23,
   "metadata": {},
   "outputs": [
    {
     "name": "stdout",
     "output_type": "stream",
     "text": [
      "[3, -3, -4, 2, -5, -4, 5, 1, 3, 5]\n",
      "3 2\n",
      "-3 1\n",
      "-4 2\n",
      "2 1\n",
      "-5 1\n",
      "5 2\n",
      "1 1\n"
     ]
    },
    {
     "data": {
      "text/plain": [
       "(3, 2)"
      ]
     },
     "execution_count": 23,
     "metadata": {},
     "output_type": "execute_result"
    }
   ],
   "source": [
    "my_list=my_frequency_with_list_tuples(my_hist_d)\n",
    "print(my_hist_d)\n",
    "my_mode_with_tupes(my_list)"
   ]
  },
  {
   "cell_type": "code",
   "execution_count": 47,
   "metadata": {},
   "outputs": [],
   "source": [
    "###Bir elemanın listede olup olmadığını bulma###\n",
    "def my_linear_search(my_list,item_search):\n",
    "    n=len(my_list)\n",
    "    for indis in range(n):\n",
    "        if my_list[indis]==item_search:\n",
    "            found=(my_list[indis],indis)\n",
    "    return found"
   ]
  },
  {
   "cell_type": "code",
   "execution_count": 48,
   "metadata": {},
   "outputs": [
    {
     "data": {
      "text/plain": [
       "[3, -5, -5, 1, -5, 5, -1, 2, 1, 4]"
      ]
     },
     "execution_count": 48,
     "metadata": {},
     "output_type": "execute_result"
    }
   ],
   "source": [
    "my_list=get_n_random_numbers(10,-5,5)\n",
    "my_list"
   ]
  },
  {
   "cell_type": "code",
   "execution_count": 49,
   "metadata": {},
   "outputs": [
    {
     "data": {
      "text/plain": [
       "(-1, 6)"
      ]
     },
     "execution_count": 49,
     "metadata": {},
     "output_type": "execute_result"
    }
   ],
   "source": [
    "my_linear_search(my_list,-1)"
   ]
  },
  {
   "cell_type": "code",
   "execution_count": 27,
   "metadata": {},
   "outputs": [],
   "source": [
    "###Listenin Ortalamasını bulma###\n",
    "def my_mean(my_list):\n",
    "    s,t=0,0\n",
    "    for item in my_list:\n",
    "        s=s+1\n",
    "        t=t+item\n",
    "    mean_=t/s\n",
    "    return mean_\n"
   ]
  },
  {
   "cell_type": "code",
   "execution_count": 28,
   "metadata": {},
   "outputs": [
    {
     "name": "stdout",
     "output_type": "stream",
     "text": [
      "[-5, 1, 4, -3, -1, -2, 3, 2, 2, -2]\n"
     ]
    },
    {
     "data": {
      "text/plain": [
       "-0.1"
      ]
     },
     "execution_count": 28,
     "metadata": {},
     "output_type": "execute_result"
    }
   ],
   "source": [
    "my_list=get_n_random_numbers()\n",
    "print(my_list)\n",
    "my_mean(my_list)"
   ]
  },
  {
   "cell_type": "code",
   "execution_count": 29,
   "metadata": {},
   "outputs": [],
   "source": [
    "###Bubble Sort ile listeyi sıralama###\n",
    "def bubble_sort(my_list):\n",
    "    n=len(my_list)\n",
    "    print(my_list)\n",
    "    for i in range (n-1,-1,-1):\n",
    "        for j in range(0,i):\n",
    "            if not (my_list[j]<my_list[j+1]):\n",
    "                temp=my_list[j]\n",
    "                my_list[j]=my_list[j+1]\n",
    "                my_list[j+1]=temp\n",
    "    return my_list"
   ]
  },
  {
   "cell_type": "code",
   "execution_count": 30,
   "metadata": {},
   "outputs": [
    {
     "name": "stdout",
     "output_type": "stream",
     "text": [
      "[-5, 1, 4, -3, -1, -2, 3, 2, 2, -2]\n"
     ]
    },
    {
     "data": {
      "text/plain": [
       "[-5, -3, -2, -2, -1, 1, 2, 2, 3, 4]"
      ]
     },
     "execution_count": 30,
     "metadata": {},
     "output_type": "execute_result"
    }
   ],
   "source": [
    "my_list\n",
    "bubble_sort(my_list)"
   ]
  },
  {
   "cell_type": "code",
   "execution_count": 45,
   "metadata": {},
   "outputs": [],
   "source": [
    "###Binary Search###\n",
    "def my_binary_search(my_list,item_search):\n",
    "    low=0\n",
    "    high=len(my_list)-1\n",
    "    while low<=high:\n",
    "        mid=(low+high)//2\n",
    "        if my_list[mid]==item_search:\n",
    "            return my_list[mid],mid\n",
    "        elif my_list[mid]>item_search:\n",
    "            high=mid-1\n",
    "        else:\n",
    "            low=mid+1\n",
    "    return 0\n",
    "        \n",
    "    "
   ]
  },
  {
   "cell_type": "code",
   "execution_count": 46,
   "metadata": {},
   "outputs": [
    {
     "name": "stdout",
     "output_type": "stream",
     "text": [
      "liste [5, 5, 0, -1, -2, 3, 5, -4, 5, -3]\n",
      "[5, 5, 0, -1, -2, 3, 5, -4, 5, -3]\n",
      "sıralı liste [-4, -3, -2, -1, 0, 3, 5, 5, 5, 5]\n"
     ]
    },
    {
     "data": {
      "text/plain": [
       "(3, 5)"
      ]
     },
     "execution_count": 46,
     "metadata": {},
     "output_type": "execute_result"
    }
   ],
   "source": [
    "my_list_1=get_n_random_numbers(10)\n",
    "print(\"liste\",my_list_1)\n",
    "my_list_2=bubble_sort(my_list_1)\n",
    "print(\"sıralı liste\",my_list_2)\n",
    "my_binary_search(my_list_2,3)"
   ]
  },
  {
   "cell_type": "code",
   "execution_count": 41,
   "metadata": {},
   "outputs": [],
   "source": [
    "###Listenin medyanını bulma###\n",
    "def my_median(my_list_1):\n",
    "    my_list_2=bubble_sort(my_list_1)\n",
    "    print(my_list_2)\n",
    "    n=len(my_list_2)\n",
    "    if n%2==1:\n",
    "        middle=int(n/2)\n",
    "        median=my_list_2[middle]\n",
    "    else:\n",
    "        middle_1=my_list_2[int(n/2)]\n",
    "        middle_2=my_list_2[int(n/2)-1]\n",
    "        median=(middle_1+middle_2)/2\n",
    "    return median"
   ]
  },
  {
   "cell_type": "code",
   "execution_count": 38,
   "metadata": {},
   "outputs": [
    {
     "name": "stdout",
     "output_type": "stream",
     "text": [
      "[6, 2, 6, 8, 7]\n",
      "[6, 2, 6, 8, 7]\n",
      "[2, 6, 6, 7, 8]\n"
     ]
    },
    {
     "data": {
      "text/plain": [
       "6"
      ]
     },
     "execution_count": 38,
     "metadata": {},
     "output_type": "execute_result"
    }
   ],
   "source": [
    "my_list=get_n_random_numbers(5,-5,8)\n",
    "print(my_list)\n",
    "my_median(my_list)"
   ]
  }
 ],
 "metadata": {
  "kernelspec": {
   "display_name": "Python 3",
   "language": "python",
   "name": "python3"
  },
  "language_info": {
   "codemirror_mode": {
    "name": "ipython",
    "version": 3
   },
   "file_extension": ".py",
   "mimetype": "text/x-python",
   "name": "python",
   "nbconvert_exporter": "python",
   "pygments_lexer": "ipython3",
   "version": "3.7.4"
  }
 },
 "nbformat": 4,
 "nbformat_minor": 2
}
