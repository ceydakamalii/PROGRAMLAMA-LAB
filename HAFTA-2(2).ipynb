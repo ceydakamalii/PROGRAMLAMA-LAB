{
 "cells": [
  {
   "cell_type": "code",
   "execution_count": 1,
   "metadata": {},
   "outputs": [
    {
     "ename": "SyntaxError",
     "evalue": "invalid syntax (<ipython-input-1-f5582180b60d>, line 1)",
     "output_type": "error",
     "traceback": [
      "\u001b[1;36m  File \u001b[1;32m\"<ipython-input-1-f5582180b60d>\"\u001b[1;36m, line \u001b[1;32m1\u001b[0m\n\u001b[1;33m    ------Selection Sort ile Sıralama------\u001b[0m\n\u001b[1;37m                       ^\u001b[0m\n\u001b[1;31mSyntaxError\u001b[0m\u001b[1;31m:\u001b[0m invalid syntax\n"
     ]
    }
   ],
   "source": [
    "------Selection Sort ile Sıralama------\n",
    "\n",
    "list_1=[1,5,3,4,6,0,8,2,9,7]\n",
    "print(\"Başlangıçta\")\n",
    "print(list_1)\n",
    "swap_sayisi=0\n",
    "for i in range(len(list_1)-1,0,-1):\n",
    "    postionOfMax=0\n",
    "    for j in range(1,i+1):\n",
    "        if (list_1[j]>list_1[postionOfMax]):\n",
    "            postionOfMax=j\n",
    "    temp=list_1[j]\n",
    "    list_1[j]=list_1[postionOfMax]\n",
    "    list_1[postionOfMax]=temp\n",
    "    swap_sayisi=swap_sayisi+1\n",
    "\n",
    "    print(\"swap sayisi\",swap_sayisi)\n",
    "    print(list_1)"
   ]
  },
  {
   "cell_type": "code",
   "execution_count": null,
   "metadata": {},
   "outputs": [],
   "source": []
  }
 ],
 "metadata": {
  "kernelspec": {
   "display_name": "Python 3",
   "language": "python",
   "name": "python3"
  },
  "language_info": {
   "codemirror_mode": {
    "name": "ipython",
    "version": 3
   },
   "file_extension": ".py",
   "mimetype": "text/x-python",
   "name": "python",
   "nbconvert_exporter": "python",
   "pygments_lexer": "ipython3",
   "version": "3.7.3"
  }
 },
 "nbformat": 4,
 "nbformat_minor": 2
}
