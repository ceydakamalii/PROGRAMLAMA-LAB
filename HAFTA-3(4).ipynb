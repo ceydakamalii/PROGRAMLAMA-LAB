{
 "cells": [
  {
   "cell_type": "code",
   "execution_count": 4,
   "metadata": {},
   "outputs": [
    {
     "name": "stdout",
     "output_type": "stream",
     "text": [
      "1\n",
      "1.50000000000000\n",
      "3/2\n",
      "5/2\n",
      "3.50000000000000\n",
      "FALSE\n",
      "***************************************\n",
      "1 Bir\n",
      "2 2\n",
      "3 Three\n",
      "***************************************\n"
     ]
    },
    {
     "ename": "NameError",
     "evalue": "name 'i' is not defined",
     "output_type": "error",
     "traceback": [
      "\u001b[1;31m---------------------------------------------------------------------------\u001b[0m",
      "\u001b[1;31mNameError\u001b[0m                                 Traceback (most recent call last)",
      "\u001b[1;32m<ipython-input-4-5ec10357ad7b>\u001b[0m in \u001b[0;36m<module>\u001b[1;34m\u001b[0m\n\u001b[0;32m     32\u001b[0m \u001b[1;33m\u001b[0m\u001b[0m\n\u001b[0;32m     33\u001b[0m \u001b[0mliste_2\u001b[0m \u001b[1;33m=\u001b[0m \u001b[1;33m[\u001b[0m\u001b[1;36m1\u001b[0m\u001b[1;33m,\u001b[0m\u001b[1;36m4\u001b[0m\u001b[1;33m,\u001b[0m\u001b[1;36m7\u001b[0m\u001b[1;33m,\u001b[0m\u001b[1;36m84\u001b[0m\u001b[1;33m,\u001b[0m\u001b[1;36m3\u001b[0m\u001b[1;33m,\u001b[0m\u001b[1;36m6\u001b[0m\u001b[1;33m,\u001b[0m\u001b[1;36m2\u001b[0m\u001b[1;33m,\u001b[0m\u001b[1;36m62\u001b[0m\u001b[1;33m]\u001b[0m\u001b[1;33m\u001b[0m\u001b[1;33m\u001b[0m\u001b[0m\n\u001b[1;32m---> 34\u001b[1;33m \u001b[0mprint\u001b[0m\u001b[1;33m(\u001b[0m\u001b[0mmy_h\u001b[0m\u001b[1;33m(\u001b[0m\u001b[0mliste_2\u001b[0m\u001b[1;33m)\u001b[0m\u001b[1;33m)\u001b[0m\u001b[1;33m\u001b[0m\u001b[1;33m\u001b[0m\u001b[0m\n\u001b[0m",
      "\u001b[1;32m<ipython-input-4-5ec10357ad7b>\u001b[0m in \u001b[0;36mmy_h\u001b[1;34m(liste_2)\u001b[0m\n\u001b[0;32m     25\u001b[0m \u001b[1;32mdef\u001b[0m \u001b[0mmy_h\u001b[0m\u001b[1;33m(\u001b[0m\u001b[0mliste_2\u001b[0m\u001b[1;33m)\u001b[0m\u001b[1;33m:\u001b[0m\u001b[1;33m\u001b[0m\u001b[1;33m\u001b[0m\u001b[0m\n\u001b[0;32m     26\u001b[0m     \u001b[0mmy_d\u001b[0m \u001b[1;33m=\u001b[0m \u001b[1;33m{\u001b[0m\u001b[1;33m}\u001b[0m\u001b[1;33m\u001b[0m\u001b[1;33m\u001b[0m\u001b[0m\n\u001b[1;32m---> 27\u001b[1;33m     \u001b[1;32mif\u001b[0m \u001b[0mi\u001b[0m \u001b[1;32mnot\u001b[0m \u001b[1;32min\u001b[0m \u001b[0mmy_d\u001b[0m\u001b[1;33m:\u001b[0m\u001b[1;33m\u001b[0m\u001b[1;33m\u001b[0m\u001b[0m\n\u001b[0m\u001b[0;32m     28\u001b[0m         \u001b[0mmy_d\u001b[0m\u001b[1;33m[\u001b[0m\u001b[0mi\u001b[0m\u001b[1;33m]\u001b[0m \u001b[1;33m=\u001b[0m \u001b[1;36m1\u001b[0m\u001b[1;33m\u001b[0m\u001b[1;33m\u001b[0m\u001b[0m\n\u001b[0;32m     29\u001b[0m     \u001b[1;32melse\u001b[0m\u001b[1;33m:\u001b[0m\u001b[1;33m\u001b[0m\u001b[1;33m\u001b[0m\u001b[0m\n",
      "\u001b[1;31mNameError\u001b[0m: name 'i' is not defined"
     ]
    }
   ],
   "source": [
    "# küme oluşturma\n",
    "from sympy import FiniteSet\n",
    "from fractions import Fraction\n",
    "s = FiniteSet(1,1.5,Fraction(1.5),Fraction(2.5),3.5)\n",
    "for member in s:\n",
    "    print(member)\n",
    "\n",
    "t = FiniteSet(1,Fraction(4.5),4.5,6)\n",
    "if s==t:\n",
    "    print(\"True\")\n",
    "else:\n",
    "    print(\"FALSE\")\n",
    "#s.intersect(t) kesişimlerini alır\n",
    "#s.union(t)  birleşimlerini alır\n",
    "print(\"***************************************\")   \n",
    "liste_2 = [1,4,7,84,3,6,2,62]\n",
    "my_d = dict()\n",
    "my_d = {1:'Bir',2:2,'3':'Three'}\n",
    "\n",
    "for key in my_d.keys():\n",
    "    print(key,my_d[key])\n",
    "if -10 not in my_d:   # -10 adlı bir key yoksa \n",
    "    my_d[-10] = 50    # -10 aldı key'e 50yi ata\n",
    "print(\"***************************************\")  \n",
    "def my_h(liste_2):\n",
    "    my_d = {}\n",
    "    if i not in my_d:\n",
    "        my_d[i] = 1\n",
    "    else:\n",
    "        my_d[i] = i+1\n",
    "    return my_d\n",
    "\n",
    "liste_2 = [1,4,7,84,3,6,2,62]\n",
    "print(my_h(liste_2))"
   ]
  }
 ],
 "metadata": {
  "kernelspec": {
   "display_name": "Python 3",
   "language": "python",
   "name": "python3"
  },
  "language_info": {
   "codemirror_mode": {
    "name": "ipython",
    "version": 3
   },
   "file_extension": ".py",
   "mimetype": "text/x-python",
   "name": "python",
   "nbconvert_exporter": "python",
   "pygments_lexer": "ipython3",
   "version": "3.7.3"
  }
 },
 "nbformat": 4,
 "nbformat_minor": 2
}
