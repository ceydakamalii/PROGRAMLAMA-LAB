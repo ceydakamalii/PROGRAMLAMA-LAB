{
 "cells": [
  {
   "cell_type": "code",
   "execution_count": 6,
   "metadata": {},
   "outputs": [],
   "source": [
    "############ LİSTEYİ İKİYE BÖLEREK ARDIŞIK EN BÜYÜK ALT DİZİ TOPLAMINI BULMA  #############\n",
    "\n",
    "def max_of_two(a,b):\n",
    "    if(a>b):\n",
    "        return a\n",
    "    else:\n",
    "        return b\n",
    "\n",
    "def max_of_three(a,b,c):\n",
    "    return max_of_two(a,max_of_two(b,c))\n",
    "\n",
    "\n",
    "def my_f_(list_1=[4,-3,5,-2,-1,2,6,-2]):\n",
    "    n=len(list_1)\n",
    "    if (n==1):\n",
    "        return list_1[0]\n",
    "    left_i=0\n",
    "    left_j=n//2\n",
    "    right_i=n//2\n",
    "    right_j=n\n",
    "    left_sum=my_f_(list_1[left_i:left_j])\n",
    "    right_sum=my_f_(list_1[right_i:right_j])\n",
    "    temp_left_sum=0\n",
    "    t=0\n",
    "    for k in range(left_j-1,left_i-1,-1):\n",
    "        t=t+list_1[k]\n",
    "        if(t>temp_left_sum):\n",
    "            temp_left_sum=t\n",
    "    temp_right_sum=0\n",
    "    t=0\n",
    "    for m in range(right_i,right_j):\n",
    "        t=t+list_1[m]\n",
    "        if(t>temp_right_sum):\n",
    "            temp_right_sum=t\n",
    "    center_sum=temp_left_sum+temp_right_sum\n",
    "    return max_of_three(left_sum,right_sum,center_sum)"
   ]
  }
 ],
 "metadata": {
  "kernelspec": {
   "display_name": "Python 3",
   "language": "python",
   "name": "python3"
  },
  "language_info": {
   "codemirror_mode": {
    "name": "ipython",
    "version": 3
   },
   "file_extension": ".py",
   "mimetype": "text/x-python",
   "name": "python",
   "nbconvert_exporter": "python",
   "pygments_lexer": "ipython3",
   "version": "3.7.3"
  }
 },
 "nbformat": 4,
 "nbformat_minor": 2
}
