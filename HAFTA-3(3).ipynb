{
 "cells": [
  {
   "cell_type": "code",
   "execution_count": 3,
   "metadata": {},
   "outputs": [
    {
     "ename": "SyntaxError",
     "evalue": "invalid syntax (<ipython-input-3-8e288da88910>, line 1)",
     "output_type": "error",
     "traceback": [
      "\u001b[1;36m  File \u001b[1;32m\"<ipython-input-3-8e288da88910>\"\u001b[1;36m, line \u001b[1;32m1\u001b[0m\n\u001b[1;33m    ------Insertion Sort ile Sıralama-----\u001b[0m\n\u001b[1;37m                       ^\u001b[0m\n\u001b[1;31mSyntaxError\u001b[0m\u001b[1;31m:\u001b[0m invalid syntax\n"
     ]
    }
   ],
   "source": [
    "------Insertion Sort ile Sıralama-----\n",
    "\n",
    "list_1=[2,0,5,9,7,6,4,8,1,3]\n",
    "n=len(list_1)\n",
    "for i in range(1,n):\n",
    "    key = list_1[i]\n",
    "    j = i - 1\n",
    "    while j >= 0 and key < list_1[j]:\n",
    "        list_1[j+1] = list_1[j]\n",
    "        j = j - 1\n",
    "    list_1[j+1] = key\n",
    "    print(list_1)\n",
    "\n",
    "print(list_1)"
   ]
  }
 ],
 "metadata": {
  "kernelspec": {
   "display_name": "Python 3",
   "language": "python",
   "name": "python3"
  },
  "language_info": {
   "codemirror_mode": {
    "name": "ipython",
    "version": 3
   },
   "file_extension": ".py",
   "mimetype": "text/x-python",
   "name": "python",
   "nbconvert_exporter": "python",
   "pygments_lexer": "ipython3",
   "version": "3.7.3"
  }
 },
 "nbformat": 4,
 "nbformat_minor": 2
}
