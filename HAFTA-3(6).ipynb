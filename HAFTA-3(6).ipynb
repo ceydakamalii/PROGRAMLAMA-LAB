{
 "cells": [
  {
   "cell_type": "code",
   "execution_count": 6,
   "metadata": {},
   "outputs": [
    {
     "ename": "SyntaxError",
     "evalue": "invalid syntax (<ipython-input-6-a08fb1f4ed09>, line 1)",
     "output_type": "error",
     "traceback": [
      "\u001b[1;36m  File \u001b[1;32m\"<ipython-input-6-a08fb1f4ed09>\"\u001b[1;36m, line \u001b[1;32m1\u001b[0m\n\u001b[1;33m    -----Shell Sort ile Sıralama-----\u001b[0m\n\u001b[1;37m                  ^\u001b[0m\n\u001b[1;31mSyntaxError\u001b[0m\u001b[1;31m:\u001b[0m invalid syntax\n"
     ]
    }
   ],
   "source": [
    "-----Shell Sort ile Sıralama-----\n",
    "\n",
    "list_1=[2,5,1,6,8,6,4,9,3,0]\n",
    "n = len(list_1)\n",
    "gap = n // 2\n",
    "while gap > 0:\n",
    "    for i in range(gap, n):\n",
    "        temp = list_1[i]\n",
    "        j = i\n",
    "        while j >= gap and list_1[j - gap] > temp:\n",
    "            list_1[j] = list_1[j - gap]\n",
    "            j = j - gap\n",
    "        list_1[j] = temp\n",
    "        print(list_1)\n",
    "    gap //= 2  # --> gap = gap // 2\n",
    "print(list_1)"
   ]
  },
  {
   "cell_type": "code",
   "execution_count": null,
   "metadata": {},
   "outputs": [],
   "source": []
  }
 ],
 "metadata": {
  "kernelspec": {
   "display_name": "Python 3",
   "language": "python",
   "name": "python3"
  },
  "language_info": {
   "codemirror_mode": {
    "name": "ipython",
    "version": 3
   },
   "file_extension": ".py",
   "mimetype": "text/x-python",
   "name": "python",
   "nbconvert_exporter": "python",
   "pygments_lexer": "ipython3",
   "version": "3.7.3"
  }
 },
 "nbformat": 4,
 "nbformat_minor": 2
}
