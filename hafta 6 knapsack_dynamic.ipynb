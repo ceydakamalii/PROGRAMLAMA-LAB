{
 "cells": [
  {
   "cell_type": "code",
   "execution_count": 78,
   "metadata": {},
   "outputs": [],
   "source": [
    "def fib(n):\n",
    "    if n==0 or n==1:\n",
    "        return 1\n",
    "    else:\n",
    "        return fib(n-1)+fib(n-2)"
   ]
  },
  {
   "cell_type": "code",
   "execution_count": 79,
   "metadata": {},
   "outputs": [
    {
     "data": {
      "text/plain": [
       "5"
      ]
     },
     "execution_count": 79,
     "metadata": {},
     "output_type": "execute_result"
    }
   ],
   "source": [
    "fib(4)"
   ]
  },
  {
   "cell_type": "code",
   "execution_count": 80,
   "metadata": {},
   "outputs": [],
   "source": [
    "def fib(n):##bu fonksiyonda gereksiz recursive çağrım oluyor bunu düzeltmek için memozition kullanmalıyız..\n",
    "    print(\"şu anki call(çağrım)değeri\",n)\n",
    "    if n==0 or n==1:\n",
    "        return 1\n",
    "    else:\n",
    "        return fib(n-1)+fib(n-2)"
   ]
  },
  {
   "cell_type": "code",
   "execution_count": 81,
   "metadata": {},
   "outputs": [
    {
     "name": "stdout",
     "output_type": "stream",
     "text": [
      "şu anki call(çağrım)değeri 4\n",
      "şu anki call(çağrım)değeri 3\n",
      "şu anki call(çağrım)değeri 2\n",
      "şu anki call(çağrım)değeri 1\n",
      "şu anki call(çağrım)değeri 0\n",
      "şu anki call(çağrım)değeri 1\n",
      "şu anki call(çağrım)değeri 2\n",
      "şu anki call(çağrım)değeri 1\n",
      "şu anki call(çağrım)değeri 0\n"
     ]
    },
    {
     "data": {
      "text/plain": [
       "5"
      ]
     },
     "execution_count": 81,
     "metadata": {},
     "output_type": "execute_result"
    }
   ],
   "source": [
    "fib(4)"
   ]
  },
  {
   "cell_type": "code",
   "execution_count": 82,
   "metadata": {},
   "outputs": [],
   "source": [
    "def fastFib(n,memo={}):##bu fonksiyon ile gereksiz recursive çağrıyı sonlandırdık...\n",
    "    print(\"şu anki call(çağrım)değeri:\",n);\n",
    "    if n==0 or n==1:\n",
    "        return 1\n",
    "    try:\n",
    "        return memo[n]\n",
    "    except KeyError:\n",
    "        result=fastFib(n-1,memo)+fastFib(n-2,memo)\n",
    "        memo[n]=result\n",
    "    return result"
   ]
  },
  {
   "cell_type": "code",
   "execution_count": 83,
   "metadata": {},
   "outputs": [
    {
     "name": "stdout",
     "output_type": "stream",
     "text": [
      "şu anki call(çağrım)değeri: 4\n",
      "şu anki call(çağrım)değeri: 3\n",
      "şu anki call(çağrım)değeri: 2\n",
      "şu anki call(çağrım)değeri: 1\n",
      "şu anki call(çağrım)değeri: 0\n",
      "şu anki call(çağrım)değeri: 1\n",
      "şu anki call(çağrım)değeri: 2\n"
     ]
    },
    {
     "data": {
      "text/plain": [
       "5"
      ]
     },
     "execution_count": 83,
     "metadata": {},
     "output_type": "execute_result"
    }
   ],
   "source": [
    "fastFib(4)"
   ]
  },
  {
   "cell_type": "code",
   "execution_count": 96,
   "metadata": {},
   "outputs": [],
   "source": [
    "memo=None"
   ]
  },
  {
   "cell_type": "markdown",
   "metadata": {},
   "source": [
    "                             **************Rooted Binary Tree**************"
   ]
  },
  {
   "cell_type": "code",
   "execution_count": 84,
   "metadata": {},
   "outputs": [],
   "source": [
    "import random"
   ]
  },
  {
   "cell_type": "code",
   "execution_count": 85,
   "metadata": {},
   "outputs": [],
   "source": [
    "class  Item(object):\n",
    "    def __init__(self, n, v, w):\n",
    "        self.name = n\n",
    "        self.value = v\n",
    "        self.weight = w\n",
    "    def getName(self):\n",
    "        return self.name\n",
    "    def getValue(self):\n",
    "        return self.value\n",
    "    def getWeight(self):\n",
    "        return self.weight\n",
    "    def __str__(self):\n",
    "        result = '<' + (self.name) + ', ' + str(self.value)  + ', ' + str(self.weight) + '>'\n",
    "        return result"
   ]
  },
  {
   "cell_type": "code",
   "execution_count": 86,
   "metadata": {},
   "outputs": [],
   "source": [
    "def maxValue(Toconsider, avail):#Toconsider(başta verilen liste)-avail(kapasite)\n",
    "    if Toconsider == [] or avail == 0:#liste boş veya çanta dolu\n",
    "        result = (0, ())\n",
    "    elif Toconsider[0].getWeight() > avail:#listenin ilk elemanının ağırlığı kapasiteden büyük ise\n",
    "        result = maxValue(Toconsider[1:], avail)#listenin 2.elemanından başla 1.elemanı sil\n",
    "    else:\n",
    "        nextItem = Toconsider[0]#ilk elemanı çantaya koy\n",
    "        withVal, withToTake = maxValue(Toconsider[1:], (avail - nextItem.getWeight()))#ilk elemanı çantaya aldığı durum\n",
    "        withVal += nextItem.getValue()\n",
    "        withoutVal, withoutToTake = maxValue(Toconsider[1:], avail)#ilk elemanı çantaya almadığı durum\n",
    "        if withVal > withoutVal:\n",
    "            result = (withVal, withToTake + (nextItem,))\n",
    "        else:\n",
    "            result = (withoutVal, withoutToTake)\n",
    "\n",
    "    return result"
   ]
  },
  {
   "cell_type": "code",
   "execution_count": 87,
   "metadata": {},
   "outputs": [],
   "source": [
    "def smalTest():\n",
    "    names = ['a', 'b', 'c', 'd']\n",
    "    vals = [6, 7, 8, 9]\n",
    "    weights = [3, 3, 2, 5]\n",
    "    Items = []\n",
    "    for i in range(len(vals)):\n",
    "        Items.append(Item(names[i], vals[i], weights[i]))\n",
    "    val, taken = maxValue(Items, 5)\n",
    "    for item in taken:\n",
    "        print(item)\n",
    "    print(\"Total value of items taken = \", val)"
   ]
  },
  {
   "cell_type": "code",
   "execution_count": 88,
   "metadata": {},
   "outputs": [
    {
     "name": "stdout",
     "output_type": "stream",
     "text": [
      "<c, 8, 2>\n",
      "<b, 7, 3>\n",
      "Total value of items taken =  15\n"
     ]
    }
   ],
   "source": [
    "smalTest()"
   ]
  },
  {
   "cell_type": "code",
   "execution_count": 89,
   "metadata": {},
   "outputs": [],
   "source": [
    "def buildManyItems(numItems,maxVal,maxWeight):\n",
    "    items=[]\n",
    "    for i in range(numItems):\n",
    "        items.append(Item(str(i),random.randint(1,maxVal),random.randint(1,maxWeight)))\n",
    "    return items"
   ]
  },
  {
   "cell_type": "code",
   "execution_count": 90,
   "metadata": {},
   "outputs": [],
   "source": [
    "def BigTest(numItems):\n",
    "    items=buildManyItems(numItems,10,10)\n",
    "    val,taken=maxValue(items,40)\n",
    "    print(\"Items taken\")\n",
    "    for item in taken:\n",
    "        print(item)\n",
    "    print(\"total value of items taken=\",val)"
   ]
  },
  {
   "cell_type": "code",
   "execution_count": 91,
   "metadata": {},
   "outputs": [
    {
     "name": "stdout",
     "output_type": "stream",
     "text": [
      "Items taken\n",
      "<3, 1, 10>\n",
      "<2, 8, 9>\n",
      "<1, 9, 4>\n",
      "<0, 9, 7>\n",
      "total value of items taken= 27\n"
     ]
    }
   ],
   "source": [
    "BigTest(4)"
   ]
  },
  {
   "cell_type": "code",
   "execution_count": 92,
   "metadata": {},
   "outputs": [],
   "source": [
    "def fastmaxValue(Toconsider, avail, memo={}):#aynı işlemleri memorize ederek daha hızlı bulduk.\n",
    "    if (len(Toconsider), avail) in memo:\n",
    "        result = memo[(len(Toconsider), avail)]\n",
    "    elif Toconsider == [] or avail == 0:\n",
    "        result = (0, ())\n",
    "    elif Toconsider[0].getWeight() > avail:\n",
    "        result = fastmaxValue(Toconsider[1:], avail, memo)\n",
    "    else:\n",
    "        nextItem = Toconsider[0]\n",
    "        withVal, withToTake = fastmaxValue(Toconsider[1:], (avail - nextItem.getWeight()), memo)\n",
    "        withVal += nextItem.getValue()\n",
    "        withoutVal, withoutToTake = fastmaxValue(Toconsider[1:], avail, memo)\n",
    "        if withVal > withoutVal:\n",
    "            result = (withVal, withToTake + (nextItem,))\n",
    "        else:\n",
    "            result = (withoutVal, withoutToTake)\n",
    "\n",
    "    memo[(len(Toconsider), avail)] = result\n",
    "    return result\n"
   ]
  },
  {
   "cell_type": "code",
   "execution_count": 95,
   "metadata": {},
   "outputs": [
    {
     "data": {
      "text/plain": [
       "(25,\n",
       " (<__main__.Item at 0x20ec87795c8>,\n",
       "  <__main__.Item at 0x20ec8779648>,\n",
       "  <__main__.Item at 0x20ec8779888>,\n",
       "  <__main__.Item at 0x20ec87791c8>,\n",
       "  <__main__.Item at 0x20ec8779148>))"
      ]
     },
     "execution_count": 95,
     "metadata": {},
     "output_type": "execute_result"
    }
   ],
   "source": [
    "numItems=5\n",
    "items=buildManyItems(numItems,10,10)\n",
    "fastmaxValue(items,40)"
   ]
  }
 ],
 "metadata": {
  "kernelspec": {
   "display_name": "Python 3",
   "language": "python",
   "name": "python3"
  },
  "language_info": {
   "codemirror_mode": {
    "name": "ipython",
    "version": 3
   },
   "file_extension": ".py",
   "mimetype": "text/x-python",
   "name": "python",
   "nbconvert_exporter": "python",
   "pygments_lexer": "ipython3",
   "version": "3.7.4"
  }
 },
 "nbformat": 4,
 "nbformat_minor": 2
}
