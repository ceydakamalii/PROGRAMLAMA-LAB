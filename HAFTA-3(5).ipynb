{
 "cells": [
  {
   "cell_type": "code",
   "execution_count": 5,
   "metadata": {},
   "outputs": [
    {
     "ename": "SyntaxError",
     "evalue": "invalid syntax (<ipython-input-5-43ee51eb09d1>, line 1)",
     "output_type": "error",
     "traceback": [
      "\u001b[1;36m  File \u001b[1;32m\"<ipython-input-5-43ee51eb09d1>\"\u001b[1;36m, line \u001b[1;32m1\u001b[0m\n\u001b[1;33m    ----Sıradan olmayan bir zar ve onunla ilgili bir kaç fonksiyon-----\u001b[0m\n\u001b[1;37m                      ^\u001b[0m\n\u001b[1;31mSyntaxError\u001b[0m\u001b[1;31m:\u001b[0m invalid syntax\n"
     ]
    }
   ],
   "source": [
    "----Sıradan olmayan bir zar ve onunla ilgili bir kaç fonksiyon-----\n",
    "\n",
    "from sympy import FiniteSet\n",
    "\n",
    "def probability(space,event):  #Olasılık hesabıı yapan fonksiyon.\n",
    "    return len(event)/len(space)\n",
    "\n",
    "def check_prime(number): #Sayının asal olup olmadığını kontrol eden fonksiyon.\n",
    "    if number !=1:\n",
    "        for factor in range(2,number):\n",
    "            if number %factor==0:\n",
    "                return False\n",
    "    else:\n",
    "        return False\n",
    "    return True\n",
    "space=FiniteSet(*range(1,21))\n",
    "primes = []\n",
    "for num in space:\n",
    "    if check_prime(num):\n",
    "        primes.append(num)\n",
    "event=FiniteSet(*primes)\n",
    "p=probability(space,event)\n",
    "print(p)"
   ]
  },
  {
   "cell_type": "code",
   "execution_count": null,
   "metadata": {},
   "outputs": [],
   "source": []
  }
 ],
 "metadata": {
  "kernelspec": {
   "display_name": "Python 3",
   "language": "python",
   "name": "python3"
  },
  "language_info": {
   "codemirror_mode": {
    "name": "ipython",
    "version": 3
   },
   "file_extension": ".py",
   "mimetype": "text/x-python",
   "name": "python",
   "nbconvert_exporter": "python",
   "pygments_lexer": "ipython3",
   "version": "3.7.3"
  }
 },
 "nbformat": 4,
 "nbformat_minor": 2
}
