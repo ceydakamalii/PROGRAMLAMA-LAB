{
 "cells": [
  {
   "cell_type": "code",
   "execution_count": 9,
   "metadata": {},
   "outputs": [],
   "source": [
    "# Bir sayının üssünü bulma\n",
    "\n",
    "def power(a,b):\n",
    "  if b==0:\n",
    "    return 1\n",
    "  elif b==1:\n",
    "    return a\n",
    "  else:\n",
    "    if b%2==0:\n",
    "      return power(a*a,b//2)\n",
    "    else:\n",
    "      return power(a*a,b//2)*a\n",
    "\n",
    "\n",
    "\n",
    "\n"
   ]
  },
  {
   "cell_type": "code",
   "execution_count": 10,
   "metadata": {},
   "outputs": [
    {
     "data": {
      "text/plain": [
       "81"
      ]
     },
     "execution_count": 10,
     "metadata": {},
     "output_type": "execute_result"
    }
   ],
   "source": [
    "power(3,4)"
   ]
  },
  {
   "cell_type": "code",
   "execution_count": 11,
   "metadata": {},
   "outputs": [],
   "source": [
    "###############   YUKARIDAKİ KODUN RECURSİVE HALİ  #################\n",
    "\n",
    "def power (a,b):\n",
    "    if b == 0:\n",
    "        return 1\n",
    "    if b == 1 :\n",
    "        return a\n",
    "    if b > 1:\n",
    "        return power(a,b-1)*a\n",
    "# power(a*a,b/2) yapmamız daha mantıklı çünkü loop sayısını azaltıyor.\n",
    "    "
   ]
  },
  {
   "cell_type": "code",
   "execution_count": 12,
   "metadata": {},
   "outputs": [
    {
     "data": {
      "text/plain": [
       "25"
      ]
     },
     "execution_count": 12,
     "metadata": {},
     "output_type": "execute_result"
    }
   ],
   "source": [
    "power (5,2)"
   ]
  },
  {
   "cell_type": "code",
   "execution_count": 13,
   "metadata": {},
   "outputs": [
    {
     "name": "stdout",
     "output_type": "stream",
     "text": [
      "11 0 7\n"
     ]
    }
   ],
   "source": [
    "##########    BİR DİZİ İÇERİSİNDEKİ ARDIŞIK TOPLAMI EN BÜYÜK OLAN ALT DİZİYİ BULAN PROGRAM #############\n",
    "\n",
    "liste=[4,-3,5,-2,-1,2,6,-2]\n",
    "max_=0\n",
    "for i in range(8):\n",
    "  for j in range(i,8):\n",
    "    t=0\n",
    "    for k in range(i,j):\n",
    "      t=t+liste[k]\n",
    "    if max_<t:\n",
    "      max_=t\n",
    "      ibas,json=i,j\n",
    "print(max_,ibas,json)"
   ]
  },
  {
   "cell_type": "code",
   "execution_count": null,
   "metadata": {},
   "outputs": [],
   "source": []
  }
 ],
 "metadata": {
  "kernelspec": {
   "display_name": "Python 3",
   "language": "python",
   "name": "python3"
  },
  "language_info": {
   "codemirror_mode": {
    "name": "ipython",
    "version": 3
   },
   "file_extension": ".py",
   "mimetype": "text/x-python",
   "name": "python",
   "nbconvert_exporter": "python",
   "pygments_lexer": "ipython3",
   "version": "3.7.3"
  }
 },
 "nbformat": 4,
 "nbformat_minor": 2
}
