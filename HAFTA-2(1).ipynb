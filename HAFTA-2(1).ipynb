{
 "cells": [
  {
   "cell_type": "code",
   "execution_count": null,
   "metadata": {},
   "outputs": [],
   "source": [
    "# -----Bubble Sort İle Sıralama-----\n",
    "\n",
    "list_1=[2,5,3,6,26,84,1,67]\n",
    "print(\"Sıralamadan önce\")\n",
    "print(list_1)\n",
    "for i in range(len(list_1)-1,0,-1):\n",
    "  for j in range(i):\n",
    "    if(list_1[j]>list_1[j+1]):\n",
    "      t=list_1[j]\n",
    "      list_1[j]=list_1[j+1]\n",
    "      list_1[j+1]=t\n",
    "print(\"Sıralamadan sonra\")\n",
    "print(list_1)"
   ]
  }
 ],
 "metadata": {
  "kernelspec": {
   "display_name": "Python 3",
   "language": "python",
   "name": "python3"
  },
  "language_info": {
   "codemirror_mode": {
    "name": "ipython",
    "version": 3
   },
   "file_extension": ".py",
   "mimetype": "text/x-python",
   "name": "python",
   "nbconvert_exporter": "python",
   "pygments_lexer": "ipython3",
   "version": "3.7.3"
  }
 },
 "nbformat": 4,
 "nbformat_minor": 2
}
