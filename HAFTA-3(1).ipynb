{
 "cells": [
  {
   "cell_type": "code",
   "execution_count": null,
   "metadata": {},
   "outputs": [],
   "source": [
    "#Fibonacci recursive\n",
    "# 1,1,2,3,5,8,13,21,34.....\n",
    "def fibo(n):\n",
    "    #Bu fonksiyon çok fazla tekrar yaptırıyor bu yüzden fazla tercih edilmez\n",
    "    if n<2:\n",
    "        return n\n",
    "    else:\n",
    "        return fibo(n-1)+fibo(n-2)\n",
    "    \n",
    "def fibo1(n):\n",
    "    # Bilenen değerleri kümeye atıyoruz böylelikle sürekli n-1 ve n-2 yi hesaplamak\n",
    "    # zorunda kalmıyoruz daha az işlem yapıyoruz\n",
    "    known = {0:0,1:1}\n",
    "    if n in known:\n",
    "        return known[n]\n",
    "    else:\n",
    "        result = fibo1(n-1)+fibo1(n-2)\n",
    "        known[n] = result\n",
    "        return result\n",
    "print(fibo1(6))"
   ]
  }
 ],
 "metadata": {
  "kernelspec": {
   "display_name": "Python 3",
   "language": "python",
   "name": "python3"
  },
  "language_info": {
   "codemirror_mode": {
    "name": "ipython",
    "version": 3
   },
   "file_extension": ".py",
   "mimetype": "text/x-python",
   "name": "python",
   "nbconvert_exporter": "python",
   "pygments_lexer": "ipython3",
   "version": "3.7.3"
  }
 },
 "nbformat": 4,
 "nbformat_minor": 2
}
