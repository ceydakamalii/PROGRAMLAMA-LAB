{
 "cells": [
  {
   "cell_type": "code",
   "execution_count": 2,
   "metadata": {},
   "outputs": [],
   "source": [
    "# Dizideki hangi elemandan kaçar tane olduğunu bulan fonksiyon\n",
    "def myHistogram(liste_1,myDic):\n",
    "    for i in liste_1:\n",
    "        if i in myDic:\n",
    "            myDic[i] = myDic[i]+1\n",
    "        else:\n",
    "            myDic[i] = 1\n",
    "    return myDic\n",
    "\n",
    "# Verilen degeri kadar tekrar eden deger var mı?   \n",
    "def repetition(myDic,value):\n",
    "    for i in myDic:\n",
    "        if myDic[i]==value:\n",
    "            return i\n",
    "    return -1"
   ]
  }
 ],
 "metadata": {
  "kernelspec": {
   "display_name": "Python 3",
   "language": "python",
   "name": "python3"
  },
  "language_info": {
   "codemirror_mode": {
    "name": "ipython",
    "version": 3
   },
   "file_extension": ".py",
   "mimetype": "text/x-python",
   "name": "python",
   "nbconvert_exporter": "python",
   "pygments_lexer": "ipython3",
   "version": "3.7.3"
  }
 },
 "nbformat": 4,
 "nbformat_minor": 2
}
