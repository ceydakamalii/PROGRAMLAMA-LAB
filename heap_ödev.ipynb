{
 "cells": [
  {
   "cell_type": "code",
   "execution_count": 1,
   "metadata": {},
   "outputs": [],
   "source": [
    "#min_heapify(array,i) fonksiyonu dizinin i.indisteki elemanı ve elemanın sağı ile solundaki sayıları kıyaslar küçük olan sayı üste büyük olan sayı alta yazılır.\n",
    "#Aldığı parametreler:array,i\n",
    "#Döndürdüğü değer:yok\n",
    "def min_heapify(array,i):\n",
    "    left = 2 * i + 1\n",
    "    right = 2 * i + 2\n",
    "    length = len(array)-1\n",
    "    smallest = i\n",
    "    if left <= length and array[i] > array[left]:\n",
    "        smallest = left\n",
    "    if right <= length and array[smallest] > array[right]:\n",
    "        smallest = right\n",
    "    if smallest != i:\n",
    "        array[i],array[smallest]=array[smallest],array[i]\n",
    "        min_heapify(array,smallest)\n"
   ]
  },
  {
   "cell_type": "code",
   "execution_count": 2,
   "metadata": {},
   "outputs": [],
   "source": [
    "# build_min_heap(array) gönderilen dizinin yarısından itibaren min_heapify fonksiyonuna gönderir ve min heap yapısı oluşur.\n",
    "#Aldığı parametre:array\n",
    "#Dönderdiği değer:yok\n",
    "def build_min_heap(array):\n",
    "    for i in reversed(range(len(array)//2)):\n",
    "        min_heapify(array,i)"
   ]
  },
  {
   "cell_type": "code",
   "execution_count": 3,
   "metadata": {},
   "outputs": [],
   "source": [
    "my_array_1 = [8,10,3,4,7,15,1,2,16]"
   ]
  },
  {
   "cell_type": "code",
   "execution_count": 4,
   "metadata": {},
   "outputs": [
    {
     "data": {
      "text/plain": [
       "[1, 2, 3, 4, 7, 15, 8, 10, 16]"
      ]
     },
     "execution_count": 4,
     "metadata": {},
     "output_type": "execute_result"
    }
   ],
   "source": [
    "build_min_heap(my_array_1)\n",
    "my_array_1"
   ]
  },
  {
   "cell_type": "code",
   "execution_count": 5,
   "metadata": {},
   "outputs": [],
   "source": [
    "# heapsort(array) fonksiyonu gönderilen diziyi küçükten büyüğe sıralar.\n",
    "#Aldığı parametre:array\n",
    "#Döndürdüğü değer:sorted_array\n",
    "def heapsort(array):\n",
    "    array=array.copy()\n",
    "    build_min_heap(array)\n",
    "    sorted_array=[]\n",
    "    for _ in range(len(array)):\n",
    "        array[0],array[-1]=array[-1],array[0] ## dizinin sonu ile başı yer değiştiriyor.\n",
    "        sorted_array.append(array.pop())\n",
    "        min_heapify(array,0)\n",
    "    return sorted_array"
   ]
  },
  {
   "cell_type": "code",
   "execution_count": 6,
   "metadata": {},
   "outputs": [
    {
     "data": {
      "text/plain": [
       "([8, 10, 3, 4, 7, 15, 1, 2, 16], [1, 2, 3, 4, 7, 8, 10, 15, 16])"
      ]
     },
     "execution_count": 6,
     "metadata": {},
     "output_type": "execute_result"
    }
   ],
   "source": [
    "my_array_1 = [8,10,3,4,7,15,1,2,16]\n",
    "my_array_2 = heapsort(my_array_1)\n",
    "my_array_1,my_array_2"
   ]
  },
  {
   "cell_type": "code",
   "execution_count": 7,
   "metadata": {},
   "outputs": [
    {
     "data": {
      "text/plain": [
       "[1, 2, 3, 4, 7, 8, 10, 15, 16]"
      ]
     },
     "execution_count": 7,
     "metadata": {},
     "output_type": "execute_result"
    }
   ],
   "source": [
    "my_array_2"
   ]
  },
  {
   "cell_type": "code",
   "execution_count": 9,
   "metadata": {},
   "outputs": [],
   "source": [
    "# insertItemToHeap(myheap_1,item) fonksiyonu min heap yapısına uygun eleman eklememizi sağlar.\n",
    "#Aldığı parametreler:myheap_1,item (myheap_1 önceden elimizde olan dizidir,item ise eklenecek sayıdır)\n",
    "#Döndürdüğü değer:myheap_1(eleman eklendikten sonraki dizinin hali)\n",
    "def insertItemToHeap(myheap_1,item):\n",
    "    length=len(myheap_1)\n",
    "    if length==0 :\n",
    "        print(\"gönderilen heap boş.\")\n",
    "        myheap_1.append(item)\n",
    "        return myheap_1\n",
    "    else:\n",
    "        myheap_1.append(item)\n",
    "        build_min_heap(myheap_1)\n",
    "    return myheap_1"
   ]
  },
  {
   "cell_type": "code",
   "execution_count": 10,
   "metadata": {},
   "outputs": [
    {
     "data": {
      "text/plain": [
       "[1, 2, 3, 4, 5, 8, 10, 15, 16, 7]"
      ]
     },
     "execution_count": 10,
     "metadata": {},
     "output_type": "execute_result"
    }
   ],
   "source": [
    "n=insertItemToHeap(my_array_2,5)\n",
    "n"
   ]
  },
  {
   "cell_type": "code",
   "execution_count": 11,
   "metadata": {},
   "outputs": [],
   "source": [
    "#removeItemFrom(myheap_1) fonksiyonu gönderilen dizinin son elemanını diziden çıkartır.\n",
    "#Aldığı parametre:myheap_1(bir dizi)\n",
    "#Döndürdüğü değer:myheap_1(son eleman silindikten sonra oluşan yeni diziyi,heapi döndürür.)\n",
    "def removeItemFrom(myheap_1):\n",
    "    length = len(myheap_1)\n",
    "    if length == 0:\n",
    "        print(\"Bu heap boştur.....\")\n",
    "        return\n",
    "    myheap_1.pop()# pop() son elemanı siler...\n",
    "    return myheap_1"
   ]
  },
  {
   "cell_type": "code",
   "execution_count": 12,
   "metadata": {},
   "outputs": [
    {
     "data": {
      "text/plain": [
       "[1, 2, 3, 4, 5, 8, 10, 15, 16]"
      ]
     },
     "execution_count": 12,
     "metadata": {},
     "output_type": "execute_result"
    }
   ],
   "source": [
    "a=removeItemFrom(n)\n",
    "a"
   ]
  }
 ],
 "metadata": {
  "kernelspec": {
   "display_name": "Python 3",
   "language": "python",
   "name": "python3"
  },
  "language_info": {
   "codemirror_mode": {
    "name": "ipython",
    "version": 3
   },
   "file_extension": ".py",
   "mimetype": "text/x-python",
   "name": "python",
   "nbconvert_exporter": "python",
   "pygments_lexer": "ipython3",
   "version": "3.7.4"
  }
 },
 "nbformat": 4,
 "nbformat_minor": 2
}
