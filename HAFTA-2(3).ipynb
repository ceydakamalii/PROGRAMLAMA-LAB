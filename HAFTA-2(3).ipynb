{
 "cells": [
  {
   "cell_type": "code",
   "execution_count": 1,
   "metadata": {},
   "outputs": [
    {
     "name": "stdout",
     "output_type": "stream",
     "text": [
      "En buyuk toplam:  15\n"
     ]
    }
   ],
   "source": [
    "#Listedeki ardaşık elemanların toplamlarından en büyüğünü bulduran fonksiyon\n",
    "\n",
    "list1=[5,-7,8,-7,-4,5,9,-1,2,-2]\n",
    "\n",
    "def sayi(list):\n",
    "    n=len(list)+1\n",
    "    max=0\n",
    "\n",
    "    for i in range(2,n):\n",
    "        for j in range(0,(n-i)):\n",
    "            top=0\n",
    "            a=0\n",
    "            while(a!=(i-1)):\n",
    "                top=top+list[j+a]\n",
    "                a=a+1\n",
    "            if(top>max):\n",
    "                max=top\n",
    "    return max\n",
    "\n",
    "print(\"En buyuk toplam: \",sayi(list1))"
   ]
  }
 ],
 "metadata": {
  "kernelspec": {
   "display_name": "Python 3",
   "language": "python",
   "name": "python3"
  },
  "language_info": {
   "codemirror_mode": {
    "name": "ipython",
    "version": 3
   },
   "file_extension": ".py",
   "mimetype": "text/x-python",
   "name": "python",
   "nbconvert_exporter": "python",
   "pygments_lexer": "ipython3",
   "version": "3.7.3"
  }
 },
 "nbformat": 4,
 "nbformat_minor": 2
}
